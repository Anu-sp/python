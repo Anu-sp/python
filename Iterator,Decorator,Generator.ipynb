{
  "nbformat": 4,
  "nbformat_minor": 0,
  "metadata": {
    "colab": {
      "provenance": []
    },
    "kernelspec": {
      "name": "python3",
      "display_name": "Python 3"
    },
    "language_info": {
      "name": "python"
    }
  },
  "cells": [
    {
      "cell_type": "markdown",
      "source": [
        "Decorator"
      ],
      "metadata": {
        "id": "PWFx3m0Hz75-"
      }
    },
    {
      "cell_type": "code",
      "execution_count": null,
      "metadata": {
        "colab": {
          "base_uri": "https://localhost:8080/"
        },
        "id": "u4UJcFki4W1O",
        "outputId": "80defe81-f6ca-4034-d82c-ee27fecc491d"
      },
      "outputs": [
        {
          "output_type": "stream",
          "name": "stdout",
          "text": [
            "Executing the function:\n",
            "Hello, Alice!\n"
          ]
        }
      ],
      "source": [
        "def custom_message_decorator(message):\n",
        "    def decorator(func):\n",
        "        def wrapper(*args, **kwargs):\n",
        "            print(message)\n",
        "            return func(*args, **kwargs)\n",
        "        return wrapper\n",
        "    return decorator\n",
        "\n",
        "@custom_message_decorator(\"Executing the function:\")\n",
        "def say_hello(name):\n",
        "    print(f\"Hello, {name}!\")\n",
        "\n",
        "# Usage\n",
        "say_hello(\"Alice\")\n"
      ]
    },
    {
      "cell_type": "code",
      "source": [
        "def my_decorator(func):\n",
        "    def wrapper():\n",
        "        print(\"Something is happening before the function is called.\")\n",
        "        func()\n",
        "        print(\"Something is happening after the function is called.\")\n",
        "    return wrapper\n",
        "\n",
        "@my_decorator\n",
        "def say_hello():\n",
        "    print(\"Hello!\")\n",
        "\n",
        "# Usage\n",
        "say_hello()\n"
      ],
      "metadata": {
        "colab": {
          "base_uri": "https://localhost:8080/"
        },
        "id": "RPXp6W1t5ZdM",
        "outputId": "005146a5-f78b-4ea1-9c59-cf04036799f3"
      },
      "execution_count": null,
      "outputs": [
        {
          "output_type": "stream",
          "name": "stdout",
          "text": [
            "Something is happening before the function is called.\n",
            "Hello!\n",
            "Something is happening after the function is called.\n"
          ]
        }
      ]
    },
    {
      "cell_type": "code",
      "source": [
        "def first_decorator(func):\n",
        "    def wrapper(*args, **kwargs):\n",
        "        print(\"First decorator\")\n",
        "        return func(*args, **kwargs)\n",
        "    return wrapper\n",
        "\n",
        "def second_decorator(func):\n",
        "    def wrapper(*args, **kwargs):\n",
        "        print(\"Second decorator\")\n",
        "        return func(*args, **kwargs)\n",
        "    return wrapper\n",
        "\n",
        "@first_decorator\n",
        "@second_decorator\n",
        "def say_hi():\n",
        "    print(\"Hi!\")\n",
        "\n",
        "# Usage\n",
        "say_hi()\n"
      ],
      "metadata": {
        "colab": {
          "base_uri": "https://localhost:8080/"
        },
        "id": "ZjtpzHgZ61NK",
        "outputId": "61ab9678-ae83-404e-d3b1-a002b47576bc"
      },
      "execution_count": null,
      "outputs": [
        {
          "output_type": "stream",
          "name": "stdout",
          "text": [
            "First decorator\n",
            "Second decorator\n",
            "Hi!\n"
          ]
        }
      ]
    },
    {
      "cell_type": "code",
      "source": [
        "from functools import wraps\n",
        "\n",
        "def my_decorator(func):\n",
        "    @wraps(func)\n",
        "    def wrapper(*args, **kwargs):\n",
        "        print(\"Something is happening before the function is called.\")\n",
        "        result = func(*args, **kwargs)\n",
        "        print(\"Something is happening after the function is called.\")\n",
        "        return result\n",
        "    return wrapper\n",
        "\n",
        "@my_decorator\n",
        "def say_hello(name):\n",
        "    \"\"\"This function greets a person.\"\"\"\n",
        "    print(f\"Hello, {name}!\")\n",
        "\n",
        "print(say_hello.__name__)  # Output: say_hello\n",
        "print(say_hello.__doc__)   # Output: This function greets a person.\n"
      ],
      "metadata": {
        "colab": {
          "base_uri": "https://localhost:8080/"
        },
        "id": "1iQUcHtY7U7P",
        "outputId": "4006839b-9656-4d00-f3e5-3befda594d74"
      },
      "execution_count": 5,
      "outputs": [
        {
          "output_type": "stream",
          "name": "stdout",
          "text": [
            "say_hello\n",
            "This function greets a person.\n"
          ]
        }
      ]
    },
    {
      "cell_type": "markdown",
      "source": [
        "Iterator"
      ],
      "metadata": {
        "id": "6bDW_iULy7WU"
      }
    },
    {
      "cell_type": "code",
      "source": [
        "class Evennumber:\n",
        "  def __init__(self,max_number):\n",
        "    self.max_number=max_number\n",
        "    self.current=2\n",
        "\n",
        "  def __iter__(self):\n",
        "    return self\n",
        "\n",
        "  def __next__(self):\n",
        "    if self.current > self.max_number:\n",
        "      raise StopIteration\n",
        "    else:\n",
        "      current_number=self.current\n",
        "      self.current+=2\n",
        "    return current_number\n",
        "\n",
        "even_numbers=Evennumber(10)\n",
        "\n",
        "for number in even_numbers:\n",
        "  print(number)"
      ],
      "metadata": {
        "colab": {
          "base_uri": "https://localhost:8080/"
        },
        "id": "1BS1Mlm2ykxT",
        "outputId": "b36b274e-2678-46a6-d6e7-7507ea75b533"
      },
      "execution_count": 2,
      "outputs": [
        {
          "output_type": "stream",
          "name": "stdout",
          "text": [
            "2\n",
            "4\n",
            "6\n",
            "8\n",
            "10\n"
          ]
        }
      ]
    },
    {
      "cell_type": "code",
      "source": [
        "class Fibonacci:\n",
        "    def __init__(self, num_terms):\n",
        "        self.num_terms = num_terms\n",
        "        self.index = 0\n",
        "        self.a, self.b = 0, 1\n",
        "\n",
        "    def __iter__(self):\n",
        "        return self\n",
        "\n",
        "    def __next__(self):\n",
        "        if self.index >= self.num_terms:\n",
        "            raise StopIteration\n",
        "        if self.index == 0:\n",
        "            self.index += 1\n",
        "            return self.a\n",
        "        elif self.index == 1:\n",
        "            self.index += 1\n",
        "            return self.b\n",
        "        else:\n",
        "            self.a, self.b = self.b, self.a + self.b\n",
        "            self.index += 1\n",
        "            return self.b\n",
        "\n",
        "fibonacci_sequence = Fibonacci(10)\n",
        "\n",
        "for num in fibonacci_sequence:\n",
        "    print(num)\n"
      ],
      "metadata": {
        "colab": {
          "base_uri": "https://localhost:8080/"
        },
        "id": "7xWpgSxI0cfl",
        "outputId": "f4938842-e991-456f-b557-8607435ed387"
      },
      "execution_count": 4,
      "outputs": [
        {
          "output_type": "stream",
          "name": "stdout",
          "text": [
            "0\n",
            "1\n",
            "1\n",
            "2\n",
            "3\n",
            "5\n",
            "8\n",
            "13\n",
            "21\n",
            "34\n"
          ]
        }
      ]
    },
    {
      "cell_type": "markdown",
      "source": [
        "Generator"
      ],
      "metadata": {
        "id": "6anW09z10zcF"
      }
    },
    {
      "cell_type": "code",
      "source": [
        "def generate_even_numbers():\n",
        "    num = 0\n",
        "    while True:\n",
        "        yield num\n",
        "        num += 2\n",
        "\n",
        "even_number_generator = generate_even_numbers()\n",
        "\n",
        "for _ in range(5):\n",
        "    print(next(even_number_generator))\n"
      ],
      "metadata": {
        "colab": {
          "base_uri": "https://localhost:8080/"
        },
        "id": "2hSmGKe401qA",
        "outputId": "85bc36a8-5ccd-45fd-84dd-d82162dcd9bd"
      },
      "execution_count": 7,
      "outputs": [
        {
          "output_type": "stream",
          "name": "stdout",
          "text": [
            "0\n",
            "2\n",
            "4\n",
            "6\n",
            "8\n"
          ]
        }
      ]
    },
    {
      "cell_type": "code",
      "source": [
        "def generate_primes():\n",
        "    num = 2\n",
        "    while True:\n",
        "        is_prime = True\n",
        "        for i in range(2, int(num ** 0.5) + 1):\n",
        "            if num % i == 0:\n",
        "                is_prime = False\n",
        "                break\n",
        "        if is_prime:\n",
        "            yield num\n",
        "        num += 1\n",
        "\n",
        "prime_generator = generate_primes()\n",
        "\n",
        "for _ in range(5):\n",
        "    print(next(prime_generator))\n"
      ],
      "metadata": {
        "colab": {
          "base_uri": "https://localhost:8080/"
        },
        "id": "vcjLNPvk4QEP",
        "outputId": "14a2837b-09e6-4b8f-e8a4-ed386304a172"
      },
      "execution_count": 9,
      "outputs": [
        {
          "output_type": "stream",
          "name": "stdout",
          "text": [
            "2\n",
            "3\n",
            "5\n",
            "7\n",
            "11\n"
          ]
        }
      ]
    }
  ]
}