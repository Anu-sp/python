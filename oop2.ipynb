{
  "cells": [
    {
      "cell_type": "markdown",
      "metadata": {
        "id": "uYLPUIqWerZm"
      },
      "source": [
        "Problem 2: Intermediate -\n",
        "\n",
        "Implement a Library Management System\n",
        "Description: Create classes to represent a library management system. You should have at least the following classes: Library, Book, and Member.\n",
        "\n",
        "Book class:\n",
        "\n",
        "Attributes: title (string), author (string), isbn (string), available (boolean).\n",
        "\n",
        "Methods: __str__(): Returns a string representation of the book.\n",
        "\n",
        "\n",
        "Member class:\n",
        "\n",
        "Attributes: name (string), member_id (string), borrowed_books (list of Book objects).\n",
        "\n",
        "Methods: borrow_book(book), return_book(book).\n",
        "\n",
        "Library class:\n",
        "\n",
        "Attributes: books (list of Book objects), members (list of Member objects).\n",
        "\n",
        "Methods: add_book(book), remove_book(book), register_member(member), unregister_member(member), lend_book(book, member), receive_book(book, member)."
      ]
    },
    {
      "cell_type": "code",
      "execution_count": 1,
      "metadata": {
        "colab": {
          "base_uri": "https://localhost:8080/"
        },
        "id": "nVFVbQe_eozF",
        "outputId": "e9372205-fffb-45a6-ccae-f1b070ab5fac"
      },
      "outputs": [
        {
          "name": "stdout",
          "output_type": "stream",
          "text": [
            "Python Programming by Abc\n",
            "['Python Programming by Abc']\n",
            "book not borrowed\n",
            "Advanced Python by xyz\n",
            "['Python Programming by Abc']\n"
          ]
        }
      ],
      "source": [
        "class Book:\n",
        "  def __init__(self, title,author,isbn,available=True):\n",
        "    self.title=title\n",
        "    self.author=author\n",
        "    self.isbn=isbn\n",
        "    self.available=available\n",
        "\n",
        "  def __str__(self):\n",
        "    return f\"{self.title} by {self.author}\"\n",
        "\n",
        "class Member:\n",
        "  def __init__(self, name, member_id, borrowed_books=None):\n",
        "    if borrowed_books is None:\n",
        "      borrowed_books = []\n",
        "    self.name=name\n",
        "    self.member_id=member_id\n",
        "    self.borrowed_books=borrowed_books\n",
        "\n",
        "  def borrow_book(self,book):\n",
        "    self.borrowed_books.append(book)\n",
        "    book.available=False\n",
        "\n",
        "  def return_book(self,book):\n",
        "    self.borrowed_books.remove(book)\n",
        "    book.available=True\n",
        "\n",
        "\n",
        "class Library:\n",
        "  def __init__(self,books:list,members:list):\n",
        "    self.books=books\n",
        "    self.members=members\n",
        "\n",
        "  def add_book(self,book):\n",
        "    self.books.append(book)\n",
        "\n",
        "  def remove_book(self,book):\n",
        "    self.books.remove(book)\n",
        "\n",
        "  def register_member(self,member):\n",
        "    self.members.append(member)\n",
        "\n",
        "  def unregister_member(self,member):\n",
        "    self.members.remove(member)\n",
        "\n",
        "  def lend_book(self,book,member):\n",
        "    if book in self.books and book.available:\n",
        "      book.available=False\n",
        "      member.borrowed_books.append(book)\n",
        "\n",
        "    else:\n",
        "      print(\"book not available\")\n",
        "\n",
        "  def receive_book(self,book,member):\n",
        "    if book in member.borrowed_books:\n",
        "      member.borrowed_books.remove(book)\n",
        "      book.available=True\n",
        "\n",
        "    else:\n",
        "      print(\"book not borrowed\")\n",
        "\n",
        "book1 = Book(\"Python Programming\", \"Abc\", \"1234567897\")\n",
        "book2 = Book(\"Advanced Python\", \"xyz\", \"1234567898\")\n",
        "\n",
        "member1 = Member(\"Alice\", \"M001\")\n",
        "member2 = Member(\"Bob\", \"M002\")\n",
        "\n",
        "library = Library([book1, book2], [member1, member2])\n",
        "\n",
        "library.lend_book(book1, member1)\n",
        "print(book1)\n",
        "print([str(book) for book in member1.borrowed_books])\n",
        "\n",
        "library.receive_book(book2, member2)\n",
        "print(book2)\n",
        "print([str(book) for book in member1.borrowed_books])"
      ]
    }
  ],
  "metadata": {
    "colab": {
      "provenance": []
    },
    "kernelspec": {
      "display_name": "base",
      "language": "python",
      "name": "python3"
    },
    "language_info": {
      "codemirror_mode": {
        "name": "ipython",
        "version": 3
      },
      "file_extension": ".py",
      "mimetype": "text/x-python",
      "name": "python",
      "nbconvert_exporter": "python",
      "pygments_lexer": "ipython3",
      "version": "3.12.3"
    }
  },
  "nbformat": 4,
  "nbformat_minor": 0
}
