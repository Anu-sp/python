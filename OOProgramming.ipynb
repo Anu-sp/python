{
  "cells": [
    {
      "cell_type": "code",
      "execution_count": 12,
      "metadata": {
        "colab": {
          "base_uri": "https://localhost:8080/"
        },
        "id": "EuVXt9_xwYw4",
        "outputId": "d4ecb7c0-1e81-40db-d560-e46cbe20d163"
      },
      "outputs": [
        {
          "name": "stdout",
          "output_type": "stream",
          "text": [
            "xyz\n",
            "20\n"
          ]
        }
      ],
      "source": [
        "class Person:\n",
        "  def __init__(self,name,age):\n",
        "    self.name=name\n",
        "    self.age=age\n",
        "\n",
        "person=Person(\"xyz\",20)\n",
        "print(person.name)\n",
        "print(person.age)"
      ]
    },
    {
      "cell_type": "code",
      "execution_count": 13,
      "metadata": {
        "colab": {
          "base_uri": "https://localhost:8080/"
        },
        "id": "Bl29UL8y7SpD",
        "outputId": "26984143-cdee-4ae6-fc85-98b32a988075"
      },
      "outputs": [
        {
          "name": "stdout",
          "output_type": "stream",
          "text": [
            " Hi abc\n"
          ]
        }
      ],
      "source": [
        "class person_1(Person):\n",
        "  def __init__ (self,name,age):\n",
        "    super().__init__(name,age)\n",
        "\n",
        "  def greet(self):\n",
        "    return f\" Hi {person_1.name}\"\n",
        "\n",
        "person_1=person_1(\"abc\",30)\n",
        "print(person_1.greet())\n"
      ]
    },
    {
      "cell_type": "code",
      "execution_count": null,
      "metadata": {
        "colab": {
          "base_uri": "https://localhost:8080/"
        },
        "id": "PGUt4VHF9j-5",
        "outputId": "acbd6b61-74db-4875-ce91-eee60773ad36"
      },
      "outputs": [
        {
          "name": "stdout",
          "output_type": "stream",
          "text": [
            "3456\n"
          ]
        }
      ],
      "source": [
        "class student(Person):\n",
        "  def __init__(self,name,age,student_id):\n",
        "    super().__init__(name,age)\n",
        "    self.student_id=student_id\n",
        "\n",
        "  def get_id(self):\n",
        "    return f\"{self.student_id}\"\n",
        "\n",
        "Student=student(\"Jon\",20,3456)\n",
        "print(Student.get_id())"
      ]
    },
    {
      "cell_type": "code",
      "execution_count": null,
      "metadata": {
        "colab": {
          "base_uri": "https://localhost:8080/"
        },
        "id": "wc8LOrs6AcU2",
        "outputId": "d1ff122a-6c57-471b-f685-699c29fa7a74"
      },
      "outputs": [
        {
          "name": "stdout",
          "output_type": "stream",
          "text": [
            "1500\n",
            "1200\n"
          ]
        }
      ],
      "source": [
        "class BankAccount:\n",
        "  def __init__(self,balance):\n",
        "    self.__balance=balance\n",
        "\n",
        "  def deposit(self,amount):\n",
        "    self.__balance +=amount\n",
        "\n",
        "  def withdraw(self,amount):\n",
        "    self.__balance -=amount\n",
        "\n",
        "  def get_balance(self):\n",
        "    return self.__balance\n",
        "\n",
        "account=BankAccount(1000)\n",
        "account.deposit(500)\n",
        "print(account.get_balance())\n",
        "account.withdraw(300)\n",
        "print(account.get_balance())\n",
        "\n",
        "\n",
        "\n"
      ]
    },
    {
      "cell_type": "code",
      "execution_count": 17,
      "metadata": {
        "colab": {
          "base_uri": "https://localhost:8080/"
        },
        "id": "lP3uqBwiCgi8",
        "outputId": "cee2e4c5-25fd-448b-cb2b-0419a38a0c52"
      },
      "outputs": [
        {
          "name": "stdout",
          "output_type": "stream",
          "text": [
            "car is moving\n",
            "bike is moving\n"
          ]
        }
      ],
      "source": [
        "from abc import ABC,abstractmethod\n",
        "\n",
        "class vehical(ABC):\n",
        "  @abstractmethod\n",
        "  def move(self):\n",
        "    pass\n",
        "\n",
        "class car(vehical):\n",
        "  def move(self):\n",
        "    print(\"car is moving\")\n",
        "\n",
        "class bike(vehical):\n",
        "  def move(self):\n",
        "    print(\"bike is moving\")\n",
        "\n",
        "car=car()\n",
        "car.move()\n",
        "\n",
        "bike=bike()\n",
        "bike.move()\n",
        "\n"
      ]
    },
    {
      "cell_type": "code",
      "execution_count": null,
      "metadata": {
        "colab": {
          "base_uri": "https://localhost:8080/"
        },
        "id": "_p-aS9T6FHxd",
        "outputId": "df35edd6-4f50-4bb8-8d76-ec95644c6228"
      },
      "outputs": [
        {
          "name": "stdout",
          "output_type": "stream",
          "text": [
            "bark\n",
            "meow\n"
          ]
        }
      ],
      "source": [
        "class Animal:\n",
        "  def make_sound(self):\n",
        "    pass\n",
        "\n",
        "class Dog(Animal):\n",
        "  def make_sound(self):\n",
        "    return \"bark\"\n",
        "\n",
        "class Cat(Animal):\n",
        "  def make_sound(self):\n",
        "    return \"meow\"\n",
        "\n",
        "dog=Dog()\n",
        "print(dog.make_sound())\n",
        "\n",
        "cat=Cat()\n",
        "print(cat.make_sound())"
      ]
    },
    {
      "cell_type": "code",
      "execution_count": null,
      "metadata": {
        "colab": {
          "base_uri": "https://localhost:8080/"
        },
        "id": "G3CrZMpxGis1",
        "outputId": "ab7a41ce-87f4-410e-bf54-21bc9339f472"
      },
      "outputs": [
        {
          "name": "stdout",
          "output_type": "stream",
          "text": [
            "3\n",
            "6\n",
            "10\n"
          ]
        }
      ],
      "source": [
        "class Calculator:\n",
        "  def add(self,a,b,c=0,d=0):\n",
        "    return a+b+c+d\n",
        "\n",
        "cal=Calculator()\n",
        "print(cal.add(1,2))\n",
        "print(cal.add(1,2,3))\n",
        "print(cal.add(1,2,3,4))\n",
        "\n"
      ]
    },
    {
      "cell_type": "code",
      "execution_count": null,
      "metadata": {
        "colab": {
          "base_uri": "https://localhost:8080/"
        },
        "id": "q1cdOIceHPHR",
        "outputId": "c2e22ce0-de6d-4bb3-cf2a-049cd24fee9f"
      },
      "outputs": [
        {
          "name": "stdout",
          "output_type": "stream",
          "text": [
            "Ramayana\n",
            "abc\n",
            "2021\n"
          ]
        }
      ],
      "source": [
        "class Book:\n",
        "  def __init__(self,title,author,year_published):\n",
        "    self.title=title\n",
        "    self.author=author\n",
        "    self.year_published=year_published\n",
        "\n",
        "book=Book(\"Ramayana\",\"abc\",2021)\n",
        "print(book.title)\n",
        "print(book.author)\n",
        "print(book.year_published)"
      ]
    },
    {
      "cell_type": "code",
      "execution_count": null,
      "metadata": {
        "colab": {
          "base_uri": "https://localhost:8080/"
        },
        "id": "txqVR7FMI7Fl",
        "outputId": "5db67f45-45dc-4dd0-b3f3-917fe0e225a8"
      },
      "outputs": [
        {
          "name": "stdout",
          "output_type": "stream",
          "text": [
            "bark\n"
          ]
        }
      ],
      "source": [
        "class Dog:\n",
        "  def bark(self):\n",
        "    return \"bark\"\n",
        "\n",
        "dog=Dog()\n",
        "print(dog.bark())"
      ]
    },
    {
      "cell_type": "code",
      "execution_count": null,
      "metadata": {
        "colab": {
          "base_uri": "https://localhost:8080/"
        },
        "id": "3oo5nXC0Yaf4",
        "outputId": "d1413f38-0107-467c-f02c-7c95f0537638"
      },
      "outputs": [
        {
          "name": "stdout",
          "output_type": "stream",
          "text": [
            "bird is eating\n"
          ]
        }
      ],
      "source": [
        "class Animal:\n",
        "  def eat(self):\n",
        "    pass\n",
        "\n",
        "class Bird(Animal):\n",
        "  def eat(self):\n",
        "    return \"bird is eating\"\n",
        "\n",
        "bird=Bird()\n",
        "print(bird.eat())\n"
      ]
    },
    {
      "cell_type": "code",
      "execution_count": null,
      "metadata": {
        "colab": {
          "base_uri": "https://localhost:8080/"
        },
        "id": "jphzprGhZ1M0",
        "outputId": "d5cc33c0-93c8-4e63-d5c6-a5eae3d523ec"
      },
      "outputs": [
        {
          "name": "stdout",
          "output_type": "stream",
          "text": [
            "Books in Library:\n",
            "Title: 1984, Author: George Orwell\n",
            "Title: To Kill a Mockingbird, Author: Harper Lee\n",
            "\n",
            "Registered Patrons:\n",
            "Name: Alice Smith, ID: P001\n",
            "Name: Bob Johnson, ID: P002\n"
          ]
        }
      ],
      "source": [
        "class Book:\n",
        "    def __init__(self, title, author):\n",
        "        self.title = title\n",
        "        self.author = author\n",
        "\n",
        "    def get_details(self):\n",
        "        return f\"Title: {self.title}, Author: {self.author}\"\n",
        "\n",
        "class Patron:\n",
        "    def __init__(self, name, patron_id):\n",
        "        self.name = name\n",
        "        self.patron_id = patron_id\n",
        "\n",
        "    def get_details(self):\n",
        "        return f\"Name: {self.name}, ID: {self.patron_id}\"\n",
        "\n",
        "class Library:\n",
        "    def __init__(self):\n",
        "        self.books = []\n",
        "        self.patrons = []\n",
        "\n",
        "    def add_book(self, book):\n",
        "        self.books.append(book)\n",
        "\n",
        "    def register_patron(self, patron):\n",
        "        self.patrons.append(patron)\n",
        "\n",
        "    def show_books(self):\n",
        "        return [book.get_details() for book in self.books]\n",
        "\n",
        "    def show_patrons(self):\n",
        "        return [patron.get_details() for patron in self.patrons]\n",
        "\n",
        "book1 = Book(\"1984\", \"George Orwell\")\n",
        "book2 = Book(\"To Kill a Mockingbird\", \"Harper Lee\")\n",
        "patron1 = Patron(\"Alice Smith\", \"P001\")\n",
        "patron2 = Patron(\"Bob Johnson\", \"P002\")\n",
        "\n",
        "library = Library()\n",
        "\n",
        "library.add_book(book1)\n",
        "library.add_book(book2)\n",
        "library.register_patron(patron1)\n",
        "library.register_patron(patron2)\n",
        "\n",
        "print(\"Books in Library:\")\n",
        "for book in library.show_books():\n",
        "    print(book)\n",
        "\n",
        "print(\"\\nRegistered Patrons:\")\n",
        "for patron in library.show_patrons():\n",
        "    print(patron)\n",
        "\n",
        "\n",
        "\n",
        "\n",
        "\n",
        "\n"
      ]
    }
  ],
  "metadata": {
    "colab": {
      "provenance": []
    },
    "kernelspec": {
      "display_name": "base",
      "language": "python",
      "name": "python3"
    },
    "language_info": {
      "codemirror_mode": {
        "name": "ipython",
        "version": 3
      },
      "file_extension": ".py",
      "mimetype": "text/x-python",
      "name": "python",
      "nbconvert_exporter": "python",
      "pygments_lexer": "ipython3",
      "version": "3.12.3"
    }
  },
  "nbformat": 4,
  "nbformat_minor": 0
}
