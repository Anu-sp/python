{
  "cells": [
    {
      "cell_type": "markdown",
      "metadata": {
        "id": "PZvF5L3J2kL2"
      },
      "source": [
        "Exception handling"
      ]
    },
    {
      "cell_type": "markdown",
      "metadata": {
        "id": "rhTUywXt2tVI"
      },
      "source": [
        "try:\n",
        "\n",
        "    # Code that may raise an exception\n",
        "\n",
        "    pass\n",
        "    \n",
        "except ExceptionType as e:\n",
        "\n",
        "    # Code that runs if an exception of ExceptionType occurs\n",
        "\n",
        "    pass\n",
        "\n",
        "else:\n",
        "\n",
        "    # Code that runs if no exception occurs\n",
        "\n",
        "    pass\n",
        "\n",
        "finally:\n",
        "\n",
        "    # Code that always runs, regardless of whether an exception occurred\n",
        "    \n",
        "    pass\n"
      ]
    },
    {
      "cell_type": "markdown",
      "metadata": {
        "id": "C9aXNEAi3IHU"
      },
      "source": [
        "Example of Basic Exception Handling"
      ]
    },
    {
      "cell_type": "code",
      "execution_count": 4,
      "metadata": {
        "colab": {
          "base_uri": "https://localhost:8080/"
        },
        "id": "xzhkItiZ2hnU",
        "outputId": "1dbfcad8-393b-4e2d-f370-64cb6e452d63"
      },
      "outputs": [
        {
          "name": "stdout",
          "output_type": "stream",
          "text": [
            "5.0\n",
            "Execution complete.\n"
          ]
        }
      ],
      "source": [
        "try:\n",
        "    dividend = int(input(\"Enter dividend: \"))\n",
        "    divisor = int(input(\"Enter divisor: \"))\n",
        "    result = dividend / divisor\n",
        "except ZeroDivisionError:\n",
        "    print(\"Error: Cannot divide by zero!\")\n",
        "except ValueError:\n",
        "    print(\"Error: Invalid input! Please enter numeric values.\")\n",
        "else:\n",
        "    print(result)\n",
        "finally:\n",
        "    print(\"Execution complete.\")\n"
      ]
    },
    {
      "cell_type": "markdown",
      "metadata": {
        "id": "W9-BxO4C4Dpm"
      },
      "source": [
        "Catching Multiple Exceptions"
      ]
    },
    {
      "cell_type": "code",
      "execution_count": 3,
      "metadata": {
        "colab": {
          "base_uri": "https://localhost:8080/"
        },
        "id": "wY6-DsUe4E-R",
        "outputId": "c58fadab-411d-423e-80a3-58715b10c5c7"
      },
      "outputs": [
        {
          "name": "stdout",
          "output_type": "stream",
          "text": [
            "error:division by zero\n"
          ]
        }
      ],
      "source": [
        "try:\n",
        "  value=int(input(\"enter the divisor:\"))\n",
        "  result=10/value\n",
        "except (ZeroDivisionError,ValueError) as e:\n",
        "  print(f\"error:{e}\")"
      ]
    },
    {
      "cell_type": "markdown",
      "metadata": {
        "id": "KOcQhjj84wSs"
      },
      "source": [
        "Custom Exception Handling"
      ]
    },
    {
      "cell_type": "code",
      "execution_count": 8,
      "metadata": {
        "colab": {
          "base_uri": "https://localhost:8080/"
        },
        "id": "O_V2Ow-v7MCg",
        "outputId": "c8f1513c-458f-49d3-88cc-0fae5125619a"
      },
      "outputs": [
        {
          "name": "stdout",
          "output_type": "stream",
          "text": [
            "Error 1001: No data provided.\n"
          ]
        }
      ],
      "source": [
        "class DetailedError(Exception):\n",
        "    def __init__(self, message, error_code):\n",
        "        super().__init__(message)\n",
        "        self.message = message\n",
        "        self.error_code = error_code\n",
        "\n",
        "    def __str__(self):\n",
        "        return f\"Error {self.error_code}: {self.message}\"\n",
        "\n",
        "def process_data(data):\n",
        "    if not data:\n",
        "        raise DetailedError(\"No data provided.\", 1001)\n",
        "\n",
        "try:\n",
        "    process_data(None)\n",
        "except DetailedError as e:\n",
        "    print(e)\n"
      ]
    },
    {
      "cell_type": "code",
      "execution_count": 11,
      "metadata": {
        "colab": {
          "base_uri": "https://localhost:8080/"
        },
        "id": "8L9-2Hd677bK",
        "outputId": "e136224f-f2cf-4dc8-a790-38af73e1443b"
      },
      "outputs": [
        {
          "name": "stdout",
          "output_type": "stream",
          "text": [
            "Custom Error: Value must be non-negative.\n"
          ]
        }
      ],
      "source": [
        "class CustomError(Exception):\n",
        "    def __init__(self, message):\n",
        "        self.message = message\n",
        "        super().__init__(self.message)\n",
        "\n",
        "def check_value(value):\n",
        "    if value < 0:\n",
        "        raise CustomError(\"Value must be non-negative.\")\n",
        "\n",
        "try:\n",
        "    check_value(-1)\n",
        "except CustomError as e:\n",
        "    print(f\"Custom Error: {e}\")\n"
      ]
    },
    {
      "cell_type": "markdown",
      "metadata": {
        "id": "YvwoVQlJ9TX3"
      },
      "source": [
        "Using else and finally Blocks"
      ]
    },
    {
      "cell_type": "code",
      "execution_count": 12,
      "metadata": {
        "colab": {
          "base_uri": "https://localhost:8080/"
        },
        "id": "AKT0n-Bq9U_g",
        "outputId": "55480ab1-0ba9-465b-8ecc-04729e550d25"
      },
      "outputs": [
        {
          "name": "stdout",
          "output_type": "stream",
          "text": [
            "Enter a number: 2\n",
            "Result: 5.0\n",
            "Cleanup operations can be performed here.\n"
          ]
        }
      ],
      "source": [
        "try:\n",
        "    number = int(input(\"Enter a number: \"))\n",
        "    result = 10 / number\n",
        "except ZeroDivisionError:\n",
        "    print(\"Error: Division by zero!\")\n",
        "except ValueError:\n",
        "    print(\"Error: Invalid input! Please enter a number.\")\n",
        "else:\n",
        "    print(f\"Result: {result}\")\n",
        "finally:\n",
        "    print(\"Cleanup operations can be performed here.\")\n"
      ]
    }
  ],
  "metadata": {
    "colab": {
      "provenance": []
    },
    "kernelspec": {
      "display_name": "base",
      "language": "python",
      "name": "python3"
    },
    "language_info": {
      "codemirror_mode": {
        "name": "ipython",
        "version": 3
      },
      "file_extension": ".py",
      "mimetype": "text/x-python",
      "name": "python",
      "nbconvert_exporter": "python",
      "pygments_lexer": "ipython3",
      "version": "3.12.3"
    }
  },
  "nbformat": 4,
  "nbformat_minor": 0
}
