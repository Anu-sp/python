{
  "nbformat": 4,
  "nbformat_minor": 0,
  "metadata": {
    "colab": {
      "provenance": []
    },
    "kernelspec": {
      "name": "python3",
      "display_name": "Python 3"
    },
    "language_info": {
      "name": "python"
    }
  },
  "cells": [
    {
      "cell_type": "markdown",
      "source": [
        "Exception handling"
      ],
      "metadata": {
        "id": "PZvF5L3J2kL2"
      }
    },
    {
      "cell_type": "markdown",
      "source": [
        "try:\n",
        "    # Code that may raise an exception\n",
        "    pass\n",
        "except ExceptionType as e:\n",
        "    # Code that runs if an exception of ExceptionType occurs\n",
        "    pass\n",
        "else:\n",
        "    # Code that runs if no exception occurs\n",
        "    pass\n",
        "finally:\n",
        "    # Code that always runs, regardless of whether an exception occurred\n",
        "    pass\n"
      ],
      "metadata": {
        "id": "rhTUywXt2tVI"
      }
    },
    {
      "cell_type": "markdown",
      "source": [
        "Example of Basic Exception Handling"
      ],
      "metadata": {
        "id": "C9aXNEAi3IHU"
      }
    },
    {
      "cell_type": "code",
      "execution_count": 1,
      "metadata": {
        "colab": {
          "base_uri": "https://localhost:8080/"
        },
        "id": "xzhkItiZ2hnU",
        "outputId": "1dbfcad8-393b-4e2d-f370-64cb6e452d63"
      },
      "outputs": [
        {
          "output_type": "stream",
          "name": "stdout",
          "text": [
            "Enter dividend: 10\n",
            "Enter divisor: 0\n",
            "Error: Cannot divide by zero!\n",
            "Execution complete.\n"
          ]
        }
      ],
      "source": [
        "try:\n",
        "    dividend = int(input(\"Enter dividend: \"))\n",
        "    divisor = int(input(\"Enter divisor: \"))\n",
        "    result = dividend / divisor\n",
        "except ZeroDivisionError:\n",
        "    print(\"Error: Cannot divide by zero!\")\n",
        "except ValueError:\n",
        "    print(\"Error: Invalid input! Please enter numeric values.\")\n",
        "else:\n",
        "    print(f\"Result: {result}\")\n",
        "finally:\n",
        "    print(\"Execution complete.\")\n"
      ]
    },
    {
      "cell_type": "markdown",
      "source": [
        "Catching Multiple Exceptions"
      ],
      "metadata": {
        "id": "W9-BxO4C4Dpm"
      }
    },
    {
      "cell_type": "code",
      "source": [
        "try:\n",
        "  value=int(input(\"enter the divisor\"))\n",
        "  result=10/value\n",
        "except (ZeroDivisionError,ValueError) as e:\n",
        "  print(f\"error:{e}\")"
      ],
      "metadata": {
        "colab": {
          "base_uri": "https://localhost:8080/"
        },
        "id": "wY6-DsUe4E-R",
        "outputId": "c58fadab-411d-423e-80a3-58715b10c5c7"
      },
      "execution_count": 4,
      "outputs": [
        {
          "output_type": "stream",
          "name": "stdout",
          "text": [
            "enter the divisor0\n",
            "error:division by zero\n"
          ]
        }
      ]
    },
    {
      "cell_type": "markdown",
      "source": [
        "Custom Exception Handling"
      ],
      "metadata": {
        "id": "KOcQhjj84wSs"
      }
    },
    {
      "cell_type": "code",
      "source": [
        "class DetailedError(Exception):\n",
        "    def __init__(self, message, error_code):\n",
        "        super().__init__(message)\n",
        "        self.message = message\n",
        "        self.error_code = error_code\n",
        "\n",
        "    def __str__(self):\n",
        "        return f\"Error {self.error_code}: {self.message}\"\n",
        "\n",
        "def process_data(data):\n",
        "    if not data:\n",
        "        raise DetailedError(\"No data provided.\", 1001)\n",
        "\n",
        "try:\n",
        "    process_data(None)\n",
        "except DetailedError as e:\n",
        "    print(e)\n"
      ],
      "metadata": {
        "colab": {
          "base_uri": "https://localhost:8080/"
        },
        "id": "O_V2Ow-v7MCg",
        "outputId": "c8f1513c-458f-49d3-88cc-0fae5125619a"
      },
      "execution_count": 8,
      "outputs": [
        {
          "output_type": "stream",
          "name": "stdout",
          "text": [
            "Error 1001: No data provided.\n"
          ]
        }
      ]
    },
    {
      "cell_type": "code",
      "source": [
        "class CustomError(Exception):\n",
        "    def __init__(self, message):\n",
        "        self.message = message\n",
        "        super().__init__(self.message)\n",
        "\n",
        "def check_value(value):\n",
        "    if value < 0:\n",
        "        raise CustomError(\"Value must be non-negative.\")\n",
        "\n",
        "try:\n",
        "    check_value(-1)\n",
        "except CustomError as e:\n",
        "    print(f\"Custom Error: {e}\")\n"
      ],
      "metadata": {
        "colab": {
          "base_uri": "https://localhost:8080/"
        },
        "id": "8L9-2Hd677bK",
        "outputId": "e136224f-f2cf-4dc8-a790-38af73e1443b"
      },
      "execution_count": 11,
      "outputs": [
        {
          "output_type": "stream",
          "name": "stdout",
          "text": [
            "Custom Error: Value must be non-negative.\n"
          ]
        }
      ]
    },
    {
      "cell_type": "markdown",
      "source": [
        "Using else and finally Blocks"
      ],
      "metadata": {
        "id": "YvwoVQlJ9TX3"
      }
    },
    {
      "cell_type": "code",
      "source": [
        "try:\n",
        "    number = int(input(\"Enter a number: \"))\n",
        "    result = 10 / number\n",
        "except ZeroDivisionError:\n",
        "    print(\"Error: Division by zero!\")\n",
        "except ValueError:\n",
        "    print(\"Error: Invalid input! Please enter a number.\")\n",
        "else:\n",
        "    print(f\"Result: {result}\")\n",
        "finally:\n",
        "    print(\"Cleanup operations can be performed here.\")\n"
      ],
      "metadata": {
        "colab": {
          "base_uri": "https://localhost:8080/"
        },
        "id": "AKT0n-Bq9U_g",
        "outputId": "55480ab1-0ba9-465b-8ecc-04729e550d25"
      },
      "execution_count": 12,
      "outputs": [
        {
          "output_type": "stream",
          "name": "stdout",
          "text": [
            "Enter a number: 2\n",
            "Result: 5.0\n",
            "Cleanup operations can be performed here.\n"
          ]
        }
      ]
    }
  ]
}