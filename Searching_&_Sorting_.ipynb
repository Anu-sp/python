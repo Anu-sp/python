{
  "nbformat": 4,
  "nbformat_minor": 0,
  "metadata": {
    "colab": {
      "provenance": []
    },
    "kernelspec": {
      "name": "python3",
      "display_name": "Python 3"
    },
    "language_info": {
      "name": "python"
    }
  },
  "cells": [
    {
      "cell_type": "markdown",
      "source": [
        "Liner Search\n",
        "\n",
        "time complexity at the best case is O(1), at worst case is O(n), and at the average O(n+1)/2"
      ],
      "metadata": {
        "id": "n93thZvlEOOE"
      }
    },
    {
      "cell_type": "code",
      "execution_count": 4,
      "metadata": {
        "colab": {
          "base_uri": "https://localhost:8080/"
        },
        "id": "-cYBcvL09EqR",
        "outputId": "31058769-88b2-48cc-87db-04d2b0c207c8"
      },
      "outputs": [
        {
          "output_type": "stream",
          "name": "stdout",
          "text": [
            "Input List: [68, 94, 67, 42, 94, 54, 55, 73, 24]\n",
            "Enter the item to search for: 68\n",
            "68 has been found at the position 0\n"
          ]
        }
      ],
      "source": [
        "import random\n",
        "\n",
        "def linear_search(input_list, src_item):\n",
        "    length = len(input_list)\n",
        "\n",
        "    for i in range(0, length):\n",
        "        if input_list[i] == src_item:\n",
        "            print(f'{src_item} has been found at the position {i}')\n",
        "            return\n",
        "    else:\n",
        "        print(f'{src_item} has not been found in the list')\n",
        "        return\n",
        "\n",
        "input_list = [random.randint(10, 100) for _ in range(9)]\n",
        "print(\"Input List:\", input_list)\n",
        "\n",
        "src_item = int(input(\"Enter the item to search for: \"))\n",
        "linear_search(input_list, src_item)\n"
      ]
    },
    {
      "cell_type": "markdown",
      "source": [
        "Binary Search\n",
        "\n",
        "time complexity for best case O(1),and worst case O(log n)"
      ],
      "metadata": {
        "id": "MOgzX7okFeaa"
      }
    },
    {
      "cell_type": "code",
      "source": [
        "src_list = [random.randint(-100, 100) for _ in range(20)]\n",
        "\n",
        "src_list"
      ],
      "metadata": {
        "id": "R6ftLKLfR_gW",
        "colab": {
          "base_uri": "https://localhost:8080/"
        },
        "outputId": "8985ee81-a714-4cc4-cfd4-2dadf75749b6"
      },
      "execution_count": 5,
      "outputs": [
        {
          "data": {
            "text/plain": [
              "[80,\n",
              " 81,\n",
              " 34,\n",
              " 74,\n",
              " 12,\n",
              " 98,\n",
              " -22,\n",
              " -6,\n",
              " -17,\n",
              " 18,\n",
              " -87,\n",
              " -70,\n",
              " -82,\n",
              " 70,\n",
              " 31,\n",
              " -86,\n",
              " -46,\n",
              " -69,\n",
              " 57,\n",
              " -23]"
            ]
          },
          "execution_count": 5,
          "metadata": {},
          "output_type": "execute_result"
        }
      ]
    },
    {
      "cell_type": "code",
      "source": [
        "def binary_search(src_list, src_item):\n",
        "  src_list.sort() # Sort the list.\n",
        "  low = 0\n",
        "  high = len(src_list) - 1\n",
        "\n",
        "  while low <= high:\n",
        "    mid = (low + high) // 2\n",
        "    mid_element = src_list[mid]\n",
        "\n",
        "    if src_item == mid_element:\n",
        "      return mid\n",
        "    elif src_item < mid_element:\n",
        "      high = mid - 1\n",
        "    else:\n",
        "      low = mid + 1\n",
        "  else:\n",
        "    return -1\n",
        "\n",
        "result = binary_search(src_list, 80)\n",
        "if result != -1:\n",
        " print(f\"number found\")\n",
        "else:\n",
        " print(f\"not found\")"
      ],
      "metadata": {
        "colab": {
          "base_uri": "https://localhost:8080/"
        },
        "id": "z0gxqMHlaHmm",
        "outputId": "2990e6d2-f7dc-4b1f-9deb-d179269c316d"
      },
      "execution_count": 10,
      "outputs": [
        {
          "output_type": "stream",
          "name": "stdout",
          "text": [
            "not found\n"
          ]
        }
      ]
    },
    {
      "cell_type": "markdown",
      "source": [
        "Bubble sort\n",
        "\n",
        "time complexity for the bubble sort is O(n^2)\n",
        "*italicized text*"
      ],
      "metadata": {
        "id": "FAjH9DA6FpY8"
      }
    },
    {
      "cell_type": "code",
      "source": [
        "arr_sort = [random.randint(-100, 100) for _ in range(20)]\n",
        "\n",
        "arr_sort"
      ],
      "metadata": {
        "colab": {
          "base_uri": "https://localhost:8080/"
        },
        "id": "gEySEhh6mW1s",
        "outputId": "bd5984d9-335d-449f-be51-a6d16d2806c7"
      },
      "execution_count": null,
      "outputs": [
        {
          "output_type": "execute_result",
          "data": {
            "text/plain": [
              "[5,\n",
              " -46,\n",
              " -84,\n",
              " -93,\n",
              " -17,\n",
              " 88,\n",
              " 100,\n",
              " -26,\n",
              " 12,\n",
              " 73,\n",
              " 30,\n",
              " -48,\n",
              " -16,\n",
              " 88,\n",
              " -79,\n",
              " 52,\n",
              " -87,\n",
              " -7,\n",
              " -10,\n",
              " 75]"
            ]
          },
          "metadata": {},
          "execution_count": 38
        }
      ]
    },
    {
      "cell_type": "code",
      "source": [
        "def bubble_sort(arr_sort):\n",
        "  n = len(arr_sort)\n",
        "  for i in range(n):\n",
        "    for j in range(0,n-i-1):\n",
        "      if arr_sort[j] > arr_sort[j+1]:\n",
        "        arr_sort[j] , arr_sort[j+1] = arr_sort[j+1] , arr_sort[j]\n",
        "\n",
        "bubble_sort(arr_sort)\n",
        "print(\"Sorted array is:\", arr_sort)\n",
        "\n"
      ],
      "metadata": {
        "colab": {
          "base_uri": "https://localhost:8080/"
        },
        "id": "ex9czzH6qVwx",
        "outputId": "d476c9fc-7dcb-4afc-add1-2040ccb8211a"
      },
      "execution_count": null,
      "outputs": [
        {
          "output_type": "stream",
          "name": "stdout",
          "text": [
            "Sorted array is: [-93, -87, -84, -79, -48, -46, -26, -17, -16, -10, -7, 5, 12, 30, 52, 73, 75, 88, 88, 100]\n"
          ]
        }
      ]
    },
    {
      "cell_type": "markdown",
      "source": [
        "Insertion Sort\n",
        "\n",
        "time complexity for best case is O(n), wort case is O(n^2)"
      ],
      "metadata": {
        "id": "oIYcGTyuF05D"
      }
    },
    {
      "cell_type": "code",
      "source": [
        "arr_sort = [random.randint(-100, 100) for _ in range(20)]\n",
        "\n",
        "arr_sort"
      ],
      "metadata": {
        "colab": {
          "base_uri": "https://localhost:8080/"
        },
        "id": "eDeSayH1tbGh",
        "outputId": "a8c36989-0d39-4dce-cba1-27669548e6af"
      },
      "execution_count": null,
      "outputs": [
        {
          "output_type": "execute_result",
          "data": {
            "text/plain": [
              "[-66,\n",
              " 94,\n",
              " -28,\n",
              " 29,\n",
              " -21,\n",
              " -65,\n",
              " 51,\n",
              " 36,\n",
              " -28,\n",
              " 27,\n",
              " -49,\n",
              " 96,\n",
              " -57,\n",
              " 69,\n",
              " -76,\n",
              " 31,\n",
              " -68,\n",
              " 62,\n",
              " -17,\n",
              " 27]"
            ]
          },
          "metadata": {},
          "execution_count": 45
        }
      ]
    },
    {
      "cell_type": "code",
      "source": [
        "def insertion_sort(arr_sort):\n",
        "  for i in range (1,len(arr_sort)):\n",
        "    key=arr_sort[i]\n",
        "    j = i - 1\n",
        "    while j >= 0 and key < arr_sort[j]:\n",
        "      arr_sort[j + 1] = arr_sort[j]\n",
        "      j -= 1\n",
        "    arr_sort[j + 1] = key\n",
        "\n",
        "insertion_sort(arr_sort)\n",
        "print(\"Sorted array is:\", arr_sort)"
      ],
      "metadata": {
        "colab": {
          "base_uri": "https://localhost:8080/"
        },
        "id": "KNCL-AZqw4m7",
        "outputId": "aac742c9-aa4e-4168-f026-ed336732bf45"
      },
      "execution_count": null,
      "outputs": [
        {
          "output_type": "stream",
          "name": "stdout",
          "text": [
            "Sorted array is: [-76, -68, -66, -65, -57, -49, -28, -28, -21, -17, 27, 27, 29, 31, 36, 51, 62, 69, 94, 96]\n"
          ]
        }
      ]
    },
    {
      "cell_type": "markdown",
      "source": [
        "Selection Sort"
      ],
      "metadata": {
        "id": "8exy9ZoZF8EO"
      }
    },
    {
      "cell_type": "code",
      "source": [
        "def selection_sort(arr_sort):\n",
        "    n = len(arr_sort)\n",
        "\n",
        "    for i in range(n):\n",
        "\n",
        "        min_idx = i\n",
        "        for j in range(i+1, n):\n",
        "            if arr_sort[j] < arr_sort[min_idx]:\n",
        "                min_idx = j\n",
        "\n",
        "        arr_sort[i], arr_sort[min_idx] = arr_sort[min_idx], arr_sort[i]\n",
        "\n",
        "\n",
        "arr = [64, 25, 12, 22, 11]\n",
        "selection_sort(arr_sort)\n",
        "print(\"Sorted array is:\", arr_sort)\n"
      ],
      "metadata": {
        "colab": {
          "base_uri": "https://localhost:8080/"
        },
        "id": "QpFRPv1Yx-In",
        "outputId": "80ca5ac6-c80b-40dd-9b56-9d31572963b4"
      },
      "execution_count": null,
      "outputs": [
        {
          "output_type": "stream",
          "name": "stdout",
          "text": [
            "Sorted array is: [-76, -68, -66, -65, -57, -49, -28, -28, -21, -17, 27, 27, 29, 31, 36, 51, 62, 69, 94, 96]\n"
          ]
        }
      ]
    },
    {
      "cell_type": "markdown",
      "source": [
        "Merge Sort"
      ],
      "metadata": {
        "id": "l7zqsbEgGAUF"
      }
    },
    {
      "cell_type": "code",
      "source": [
        "import random\n",
        "array_sort = [random.randint(200, 400) for _ in range(20)]\n",
        "\n",
        "array_sort\n"
      ],
      "metadata": {
        "colab": {
          "base_uri": "https://localhost:8080/"
        },
        "id": "T9PTxpJ0nY-j",
        "outputId": "c851e22e-ee25-4cb9-90e7-870b8cee20a0"
      },
      "execution_count": null,
      "outputs": [
        {
          "output_type": "execute_result",
          "data": {
            "text/plain": [
              "[337,\n",
              " 316,\n",
              " 317,\n",
              " 267,\n",
              " 385,\n",
              " 300,\n",
              " 343,\n",
              " 378,\n",
              " 257,\n",
              " 271,\n",
              " 278,\n",
              " 278,\n",
              " 259,\n",
              " 218,\n",
              " 368,\n",
              " 263,\n",
              " 335,\n",
              " 370,\n",
              " 245,\n",
              " 277]"
            ]
          },
          "metadata": {},
          "execution_count": 10
        }
      ]
    },
    {
      "cell_type": "code",
      "source": [
        "def merge_sort(array_sort):\n",
        "\n",
        "    if len(array_sort) > 1:\n",
        "\n",
        "        mid = len(array_sort) // 2\n",
        "        left_half = array_sort[:mid]\n",
        "        right_half = array_sort[mid:]\n",
        "        merge_sort(left_half)\n",
        "        merge_sort(right_half)\n",
        "        i = j = k = 0\n",
        "\n",
        "\n",
        "        while i < len(left_half) and j < len(right_half):\n",
        "            if left_half[i] < right_half[j]:\n",
        "                array_sort[k] = left_half[i]\n",
        "                i += 1\n",
        "            else:\n",
        "                array_sort[k] = right_half[j]\n",
        "                j += 1\n",
        "            k += 1\n",
        "\n",
        "\n",
        "        while i < len(left_half):\n",
        "            array_sort[k] = left_half[i]\n",
        "            i += 1\n",
        "            k += 1\n",
        "\n",
        "        while j < len(right_half):\n",
        "            array_sort[k] = right_half[j]\n",
        "            j += 1\n",
        "            k += 1\n",
        "\n",
        "\n",
        "arr = [38, 27, 43, 3, 9, 82, 10]\n",
        "merge_sort(array_sort)\n",
        "print(\"Sorted array is:\", array_sort)\n"
      ],
      "metadata": {
        "id": "jp_XFJNphBzF",
        "colab": {
          "base_uri": "https://localhost:8080/"
        },
        "outputId": "0e5bc045-df07-4893-db4e-aee8fda43cd5"
      },
      "execution_count": null,
      "outputs": [
        {
          "output_type": "stream",
          "name": "stdout",
          "text": [
            "Sorted array is: [235, 247, 252, 256, 258, 265, 273, 274, 275, 293, 313, 317, 328, 330, 336, 353, 361, 368, 374, 394]\n"
          ]
        }
      ]
    },
    {
      "cell_type": "markdown",
      "source": [
        "Quick sort"
      ],
      "metadata": {
        "id": "onfyCQ45GGlJ"
      }
    },
    {
      "cell_type": "code",
      "source": [
        "def partition(array_sort, low, high):\n",
        "\n",
        "    pivot = array_sort[high]\n",
        "    i = low - 1\n",
        "\n",
        "\n",
        "    for j in range(low, high):\n",
        "        if array_sort[j] <= pivot:\n",
        "            i += 1\n",
        "            array_sort[i], array_sort[j] = array_sort[j], array_sort[i]\n",
        "\n",
        "\n",
        "    array_sort[i + 1], array_sort[high] = array_sort[high], array_sort[i + 1]\n",
        "    return i + 1\n",
        "\n",
        "def quick_sort(array_sort, low, high):\n",
        "    if low < high:\n",
        "\n",
        "        pi = partition(array_sort, low, high)\n",
        "\n",
        "\n",
        "        quick_sort(array_sort, low, pi - 1)\n",
        "        quick_sort(array_sort, pi + 1, high)\n",
        "\n",
        "\n",
        "\n",
        "n = len(array_sort)\n",
        "quick_sort(array_sort, 0, n - 1)\n",
        "print(\"Sorted array is:\", array_sort)\n"
      ],
      "metadata": {
        "colab": {
          "base_uri": "https://localhost:8080/"
        },
        "id": "4E4LtpyMq3Pl",
        "outputId": "47e1870c-6411-4453-b92f-073587998d9f"
      },
      "execution_count": null,
      "outputs": [
        {
          "output_type": "stream",
          "name": "stdout",
          "text": [
            "Sorted array is: [218, 245, 257, 259, 263, 267, 271, 277, 278, 278, 300, 316, 317, 335, 337, 343, 368, 370, 378, 385]\n"
          ]
        }
      ]
    }
  ]
}