{
  "cells": [
    {
      "cell_type": "markdown",
      "metadata": {
        "id": "1HAgvQAzyE5K"
      },
      "source": [
        "Problem 1: Easy - Create a Class for a Simple Bank Account\n",
        "Description: Create a class BankAccount that simulates a simple bank account. The class should have the following features:\n",
        "Attributes: account_number (string), account_holder (string), balance (float).\n",
        "Methods:\n",
        "deposit(amount): Adds the specified amount to the balance.\n",
        "withdraw(amount): Subtracts the specified amount from the balance if sufficient funds are available; otherwise, print an error message.\n",
        "get_balance(): Returns the current balance.\n"
      ]
    },
    {
      "cell_type": "code",
      "execution_count": 3,
      "metadata": {
        "colab": {
          "base_uri": "https://localhost:8080/"
        },
        "id": "ECgXKNbdx8sX",
        "outputId": "0f5bffbf-c287-4ae3-8ab6-347e6b5f4aaa"
      },
      "outputs": [
        {
          "name": "stdout",
          "output_type": "stream",
          "text": [
            "<bound method BankAccount.account_holder of <__main__.BankAccount object at 0x000002A66FF1C3E0>>\n",
            "Deposited 1000. New balance: 2000\n",
            "Withdrew 300. New balance: 1700\n",
            " current_balance :1700\n"
          ]
        }
      ],
      "source": [
        "class BankAccount:\n",
        "  def __init__(self,account_number,account_holder,balance=0):\n",
        "    self.__account_number = account_number\n",
        "    self.__account_holder = account_holder\n",
        "    self.balance = balance\n",
        "\n",
        "  @property\n",
        "  def account_number(self):\n",
        "    return self.__account_number\n",
        "  def account_holder(self):\n",
        "    return self.__account_holder\n",
        "\n",
        "  def deposit(self,amount):\n",
        "    self.balance += amount\n",
        "    return f\"Deposited {amount}. New balance: {self.balance}\"\n",
        "\n",
        "  def withdraw(self,amount):\n",
        "    if amount > self.balance:\n",
        "      return \"Insufficient funds\"\n",
        "    else:\n",
        "      self.balance -= amount\n",
        "      return f\"Withdrew {amount}. New balance: {self.balance}\"\n",
        "\n",
        "\n",
        "  def get_balance(self):\n",
        "    return f\" current_balance :{self.balance}\"\n",
        "\n",
        "account = BankAccount(\"12345\", \"xyz\", 1000)\n",
        "\n",
        "print(account.account_holder)\n",
        "\n",
        "print(account.deposit(1000))\n",
        "\n",
        "print(account.withdraw(300))\n",
        "\n",
        "print(account.get_balance())"
      ]
    }
  ],
  "metadata": {
    "colab": {
      "provenance": []
    },
    "kernelspec": {
      "display_name": "base",
      "language": "python",
      "name": "python3"
    },
    "language_info": {
      "codemirror_mode": {
        "name": "ipython",
        "version": 3
      },
      "file_extension": ".py",
      "mimetype": "text/x-python",
      "name": "python",
      "nbconvert_exporter": "python",
      "pygments_lexer": "ipython3",
      "version": "3.12.3"
    }
  },
  "nbformat": 4,
  "nbformat_minor": 0
}
