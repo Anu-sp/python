{
  "nbformat": 4,
  "nbformat_minor": 0,
  "metadata": {
    "colab": {
      "provenance": []
    },
    "kernelspec": {
      "name": "python3",
      "display_name": "Python 3"
    },
    "language_info": {
      "name": "python"
    }
  },
  "cells": [
    {
      "cell_type": "markdown",
      "source": [
        "Problem 1: Easy - Create a Class for a Simple Bank Account\n",
        "Description: Create a class BankAccount that simulates a simple bank account. The class should have the following features:\n",
        "Attributes: account_number (string), account_holder (string), balance (float).\n",
        "Methods:\n",
        "deposit(amount): Adds the specified amount to the balance.\n",
        "withdraw(amount): Subtracts the specified amount from the balance if sufficient funds are available; otherwise, print an error message.\n",
        "get_balance(): Returns the current balance.\n"
      ],
      "metadata": {
        "id": "1HAgvQAzyE5K"
      }
    },
    {
      "cell_type": "code",
      "execution_count": null,
      "metadata": {
        "colab": {
          "base_uri": "https://localhost:8080/"
        },
        "id": "ECgXKNbdx8sX",
        "outputId": "0f5bffbf-c287-4ae3-8ab6-347e6b5f4aaa"
      },
      "outputs": [
        {
          "output_type": "stream",
          "name": "stdout",
          "text": [
            "<bound method BankAccount.account_holder of <__main__.BankAccount object at 0x7931668b9ba0>>\n",
            "Deposited 1000. New balance: 2000\n",
            "Withdrew 300. New balance: 1700\n",
            " current_balance :1700\n"
          ]
        }
      ],
      "source": [
        "class BankAccount:\n",
        "  def __init__(self,account_number,account_holder,balance=0):\n",
        "    self.__account_number = account_number\n",
        "    self.__account_holder = account_holder\n",
        "    self.balance = balance\n",
        "\n",
        "  @property\n",
        "  def account_number(self):\n",
        "    return self.__account_number\n",
        "  def account_holder(self):\n",
        "    return self.__account_holder\n",
        "\n",
        "  def deposit(self,amount):\n",
        "      self.balance += amount\n",
        "      return f\"Deposited {amount}. New balance: {self.balance}\"\n",
        "\n",
        "  def withdraw(self,amount):\n",
        "        if amount > self.balance:\n",
        "            return \"Insufficient funds\"\n",
        "        else:\n",
        "            self.balance -= amount\n",
        "            return f\"Withdrew {amount}. New balance: {self.balance}\"\n",
        "\n",
        "\n",
        "  def get_balance(self):\n",
        "      return f\" current_balance :{self.balance}\"\n",
        "\n",
        "account = BankAccount(\"12345\", \"xyz\", 1000)\n",
        "\n",
        "print(account.account_holder)\n",
        "\n",
        "print(account.deposit(1000))\n",
        "\n",
        "print(account.withdraw(300))\n",
        "\n",
        "print(account.get_balance())"
      ]
    }
  ]
}